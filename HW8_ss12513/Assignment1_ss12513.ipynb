{
 "cells": [
  {
   "cell_type": "code",
   "execution_count": 1,
   "metadata": {},
   "outputs": [
    {
     "name": "stderr",
     "output_type": "stream",
     "text": [
      "/usr/local/Anaconda3-5.0.0-Linux-x86_64/envs/PUI2016_Python3/lib/python3.5/site-packages/IPython/html.py:14: ShimWarning: The `IPython.html` package has been deprecated. You should import from `notebook` instead. `IPython.html.widgets` has moved to `ipywidgets`.\n",
      "  \"`IPython.html.widgets` has moved to `ipywidgets`.\", ShimWarning)\n"
     ]
    }
   ],
   "source": [
    "import numpy as np\n",
    "import pandas as pd\n",
    "import seaborn as sns\n",
    "import matplotlib.pyplot as plt\n",
    "%matplotlib inline\n",
    "import os"
   ]
  },
  {
   "cell_type": "code",
   "execution_count": 2,
   "metadata": {},
   "outputs": [],
   "source": [
    "df=pd.read_excel(\"https://www1.nyc.gov/assets/finance/downloads/pdf/rolling_sales/annualized-sales/2016/2016_statenisland.xls\",header=4)\n",
    "#https://www1.nyc.gov/assets/finance/downloads/pdf/rolling_sales/rollingsales_statenisland.xls"
   ]
  },
  {
   "cell_type": "code",
   "execution_count": 3,
   "metadata": {},
   "outputs": [
    {
     "data": {
      "text/html": [
       "<div>\n",
       "<table border=\"1\" class=\"dataframe\">\n",
       "  <thead>\n",
       "    <tr style=\"text-align: right;\">\n",
       "      <th></th>\n",
       "      <th>BOROUGH</th>\n",
       "      <th>NEIGHBORHOOD</th>\n",
       "      <th>BUILDING CLASS CATEGORY</th>\n",
       "      <th>TAX CLASS AT PRESENT</th>\n",
       "      <th>BLOCK</th>\n",
       "      <th>LOT</th>\n",
       "      <th>EASE-MENT</th>\n",
       "      <th>BUILDING CLASS AT PRESENT</th>\n",
       "      <th>ADDRESS</th>\n",
       "      <th>APARTMENT NUMBER</th>\n",
       "      <th>...</th>\n",
       "      <th>RESIDENTIAL UNITS</th>\n",
       "      <th>COMMERCIAL UNITS</th>\n",
       "      <th>TOTAL UNITS</th>\n",
       "      <th>LAND SQUARE FEET</th>\n",
       "      <th>GROSS SQUARE FEET</th>\n",
       "      <th>YEAR BUILT</th>\n",
       "      <th>TAX CLASS AT TIME OF SALE</th>\n",
       "      <th>BUILDING CLASS AT TIME OF SALE</th>\n",
       "      <th>SALE PRICE</th>\n",
       "      <th>SALE DATE</th>\n",
       "    </tr>\n",
       "  </thead>\n",
       "  <tbody>\n",
       "    <tr>\n",
       "      <th>0</th>\n",
       "      <td>5</td>\n",
       "      <td>ANNADALE</td>\n",
       "      <td>01  ONE FAMILY DWELLINGS</td>\n",
       "      <td>1</td>\n",
       "      <td>5391</td>\n",
       "      <td>9</td>\n",
       "      <td></td>\n",
       "      <td>A5</td>\n",
       "      <td>4726 AMBOY ROAD</td>\n",
       "      <td></td>\n",
       "      <td>...</td>\n",
       "      <td>1</td>\n",
       "      <td>0</td>\n",
       "      <td>1</td>\n",
       "      <td>3067</td>\n",
       "      <td>1110</td>\n",
       "      <td>2002</td>\n",
       "      <td>1</td>\n",
       "      <td>A5</td>\n",
       "      <td>520000</td>\n",
       "      <td>2016-04-21</td>\n",
       "    </tr>\n",
       "    <tr>\n",
       "      <th>1</th>\n",
       "      <td>5</td>\n",
       "      <td>ANNADALE</td>\n",
       "      <td>01  ONE FAMILY DWELLINGS</td>\n",
       "      <td>1</td>\n",
       "      <td>5391</td>\n",
       "      <td>30</td>\n",
       "      <td></td>\n",
       "      <td>A1</td>\n",
       "      <td>1306 ARDEN AVENUE</td>\n",
       "      <td></td>\n",
       "      <td>...</td>\n",
       "      <td>1</td>\n",
       "      <td>0</td>\n",
       "      <td>1</td>\n",
       "      <td>7500</td>\n",
       "      <td>1890</td>\n",
       "      <td>1952</td>\n",
       "      <td>1</td>\n",
       "      <td>A1</td>\n",
       "      <td>0</td>\n",
       "      <td>2016-05-04</td>\n",
       "    </tr>\n",
       "    <tr>\n",
       "      <th>2</th>\n",
       "      <td>5</td>\n",
       "      <td>ANNADALE</td>\n",
       "      <td>01  ONE FAMILY DWELLINGS</td>\n",
       "      <td>1</td>\n",
       "      <td>5395</td>\n",
       "      <td>15</td>\n",
       "      <td></td>\n",
       "      <td>A1</td>\n",
       "      <td>10 EDWIN STREET</td>\n",
       "      <td></td>\n",
       "      <td>...</td>\n",
       "      <td>1</td>\n",
       "      <td>0</td>\n",
       "      <td>1</td>\n",
       "      <td>7000</td>\n",
       "      <td>2200</td>\n",
       "      <td>1980</td>\n",
       "      <td>1</td>\n",
       "      <td>A1</td>\n",
       "      <td>10</td>\n",
       "      <td>2016-04-21</td>\n",
       "    </tr>\n",
       "    <tr>\n",
       "      <th>3</th>\n",
       "      <td>5</td>\n",
       "      <td>ANNADALE</td>\n",
       "      <td>01  ONE FAMILY DWELLINGS</td>\n",
       "      <td>1</td>\n",
       "      <td>5397</td>\n",
       "      <td>60</td>\n",
       "      <td></td>\n",
       "      <td>A1</td>\n",
       "      <td>33 EYLANDT STREET</td>\n",
       "      <td></td>\n",
       "      <td>...</td>\n",
       "      <td>1</td>\n",
       "      <td>0</td>\n",
       "      <td>1</td>\n",
       "      <td>10120</td>\n",
       "      <td>3516</td>\n",
       "      <td>1984</td>\n",
       "      <td>1</td>\n",
       "      <td>A1</td>\n",
       "      <td>0</td>\n",
       "      <td>2016-08-10</td>\n",
       "    </tr>\n",
       "    <tr>\n",
       "      <th>4</th>\n",
       "      <td>5</td>\n",
       "      <td>ANNADALE</td>\n",
       "      <td>01  ONE FAMILY DWELLINGS</td>\n",
       "      <td>1</td>\n",
       "      <td>5399</td>\n",
       "      <td>26</td>\n",
       "      <td></td>\n",
       "      <td>A1</td>\n",
       "      <td>235 KOCH BOULEVARD</td>\n",
       "      <td></td>\n",
       "      <td>...</td>\n",
       "      <td>1</td>\n",
       "      <td>0</td>\n",
       "      <td>1</td>\n",
       "      <td>9555</td>\n",
       "      <td>1528</td>\n",
       "      <td>1960</td>\n",
       "      <td>1</td>\n",
       "      <td>A1</td>\n",
       "      <td>0</td>\n",
       "      <td>2016-02-11</td>\n",
       "    </tr>\n",
       "  </tbody>\n",
       "</table>\n",
       "<p>5 rows × 21 columns</p>\n",
       "</div>"
      ],
      "text/plain": [
       "   BOROUGH\\n             NEIGHBORHOOD\\n  \\\n",
       "0          5  ANNADALE                    \n",
       "1          5  ANNADALE                    \n",
       "2          5  ANNADALE                    \n",
       "3          5  ANNADALE                    \n",
       "4          5  ANNADALE                    \n",
       "\n",
       "                      BUILDING CLASS CATEGORY\\n TAX CLASS AT PRESENT\\n  \\\n",
       "0  01  ONE FAMILY DWELLINGS                                          1   \n",
       "1  01  ONE FAMILY DWELLINGS                                          1   \n",
       "2  01  ONE FAMILY DWELLINGS                                          1   \n",
       "3  01  ONE FAMILY DWELLINGS                                          1   \n",
       "4  01  ONE FAMILY DWELLINGS                                          1   \n",
       "\n",
       "   BLOCK\\n  LOT\\n EASE-MENT\\n BUILDING CLASS AT PRESENT\\n  \\\n",
       "0     5391      9                                      A5   \n",
       "1     5391     30                                      A1   \n",
       "2     5395     15                                      A1   \n",
       "3     5397     60                                      A1   \n",
       "4     5399     26                                      A1   \n",
       "\n",
       "                                   ADDRESS\\n APARTMENT NUMBER\\n     ...       \\\n",
       "0  4726 AMBOY ROAD                                                  ...        \n",
       "1  1306 ARDEN AVENUE                                                ...        \n",
       "2  10 EDWIN STREET                                                  ...        \n",
       "3  33 EYLANDT STREET                                                ...        \n",
       "4  235 KOCH BOULEVARD                                               ...        \n",
       "\n",
       "   RESIDENTIAL UNITS\\n  COMMERCIAL UNITS\\n  TOTAL UNITS\\n  LAND SQUARE FEET\\n  \\\n",
       "0                    1                   0              1                3067   \n",
       "1                    1                   0              1                7500   \n",
       "2                    1                   0              1                7000   \n",
       "3                    1                   0              1               10120   \n",
       "4                    1                   0              1                9555   \n",
       "\n",
       "   GROSS SQUARE FEET\\n  YEAR BUILT\\n  TAX CLASS AT TIME OF SALE\\n  \\\n",
       "0                 1110          2002                            1   \n",
       "1                 1890          1952                            1   \n",
       "2                 2200          1980                            1   \n",
       "3                 3516          1984                            1   \n",
       "4                 1528          1960                            1   \n",
       "\n",
       "   BUILDING CLASS AT TIME OF SALE\\n SALE PRICE\\n  SALE DATE\\n  \n",
       "0                                A5       520000   2016-04-21  \n",
       "1                                A1            0   2016-05-04  \n",
       "2                                A1           10   2016-04-21  \n",
       "3                                A1            0   2016-08-10  \n",
       "4                                A1            0   2016-02-11  \n",
       "\n",
       "[5 rows x 21 columns]"
      ]
     },
     "execution_count": 3,
     "metadata": {},
     "output_type": "execute_result"
    }
   ],
   "source": [
    "df.head()"
   ]
  },
  {
   "cell_type": "code",
   "execution_count": 4,
   "metadata": {},
   "outputs": [],
   "source": [
    "df.columns = df.columns.str.replace('\\n', '')"
   ]
  },
  {
   "cell_type": "code",
   "execution_count": 5,
   "metadata": {},
   "outputs": [
    {
     "data": {
      "text/plain": [
       "Index(['BOROUGH', 'NEIGHBORHOOD', 'BUILDING CLASS CATEGORY',\n",
       "       'TAX CLASS AT PRESENT', 'BLOCK', 'LOT', 'EASE-MENT',\n",
       "       'BUILDING CLASS AT PRESENT', 'ADDRESS', 'APARTMENT NUMBER', 'ZIP CODE',\n",
       "       'RESIDENTIAL UNITS', 'COMMERCIAL UNITS', 'TOTAL UNITS',\n",
       "       'LAND SQUARE FEET', 'GROSS SQUARE FEET', 'YEAR BUILT',\n",
       "       'TAX CLASS AT TIME OF SALE', 'BUILDING CLASS AT TIME OF SALE',\n",
       "       'SALE PRICE', 'SALE DATE'],\n",
       "      dtype='object')"
      ]
     },
     "execution_count": 5,
     "metadata": {},
     "output_type": "execute_result"
    }
   ],
   "source": [
    "df.columns"
   ]
  },
  {
   "cell_type": "code",
   "execution_count": 6,
   "metadata": {},
   "outputs": [],
   "source": [
    "df1=df[['BOROUGH','NEIGHBORHOOD','BUILDING CLASS CATEGORY','ZIP CODE','SALE PRICE', 'SALE DATE']]"
   ]
  },
  {
   "cell_type": "code",
   "execution_count": 7,
   "metadata": {},
   "outputs": [],
   "source": [
    "df1= df1[df1['SALE PRICE'] != 0]"
   ]
  },
  {
   "cell_type": "code",
   "execution_count": 8,
   "metadata": {},
   "outputs": [
    {
     "data": {
      "text/plain": [
       "Index(['BOROUGH', 'NEIGHBORHOOD', 'BUILDING CLASS CATEGORY', 'ZIP CODE',\n",
       "       'SALE PRICE', 'SALE DATE'],\n",
       "      dtype='object')"
      ]
     },
     "execution_count": 8,
     "metadata": {},
     "output_type": "execute_result"
    }
   ],
   "source": [
    "df1.columns"
   ]
  },
  {
   "cell_type": "code",
   "execution_count": 9,
   "metadata": {},
   "outputs": [],
   "source": [
    "df2=df1.groupby(['ZIP CODE'])[['SALE PRICE']].mean()"
   ]
  },
  {
   "cell_type": "code",
   "execution_count": 10,
   "metadata": {},
   "outputs": [],
   "source": [
    "df2.reset_index(inplace=True)"
   ]
  },
  {
   "cell_type": "code",
   "execution_count": 34,
   "metadata": {},
   "outputs": [
    {
     "data": {
      "text/plain": [
       "('file.gz', <http.client.HTTPMessage at 0x7fb7f38b5278>)"
      ]
     },
     "execution_count": 34,
     "metadata": {},
     "output_type": "execute_result"
    }
   ],
   "source": [
    "import urllib.request\n",
    "urllib.request.urlretrieve(\"https://data.cityofnewyork.us/download/i8iw-xf4u/application%2Fzip\", \"file.gz\")"
   ]
  },
  {
   "cell_type": "code",
   "execution_count": 12,
   "metadata": {},
   "outputs": [
    {
     "name": "stdout",
     "output_type": "stream",
     "text": [
      "Archive:  file.gz\n",
      "  inflating: ZIP_CODE_040114.shx     \n",
      "  inflating: ZIP_CODE_040114.dbf     \n",
      "  inflating: ZIP_CODE_040114.prj     \n",
      "  inflating: ZIP_CODE_040114.sbn     \n",
      "  inflating: ZIP_CODE_040114.sbx     \n",
      "  inflating: ZIP_CODE_040114.shp     \n",
      "  inflating: ZIP_CODE_040114.shp.xml  \n"
     ]
    }
   ],
   "source": [
    "!unzip file.gz"
   ]
  },
  {
   "cell_type": "code",
   "execution_count": 12,
   "metadata": {},
   "outputs": [
    {
     "name": "stdout",
     "output_type": "stream",
     "text": [
      "('PUIdata', '/nfshome/ss12513/PUIdata')\n"
     ]
    }
   ],
   "source": [
    "print(\"PUIdata\", os.getenv(\"PUIDATA\"))"
   ]
  },
  {
   "cell_type": "code",
   "execution_count": 13,
   "metadata": {},
   "outputs": [
    {
     "name": "stdout",
     "output_type": "stream",
     "text": [
      "('PUIdata', '/nfshome/ss12513/PUIdata')\n"
     ]
    }
   ],
   "source": [
    "os.environ[\"PUIDATA\"] = \"%s/PUIdata\"%os.getenv(\"HOME\")\n",
    "\n",
    "print(\"PUIdata\", os.getenv(\"PUIDATA\"))"
   ]
  },
  {
   "cell_type": "code",
   "execution_count": 14,
   "metadata": {},
   "outputs": [],
   "source": [
    "!mv ZIP_CODE_040114.shx $PUIDATA\n",
    "!mv ZIP_CODE_040114.dbf $PUIDATA\n",
    "!mv ZIP_CODE_040114.prj $PUIDATA\n",
    "!mv ZIP_CODE_040114.sbn $PUIDATA\n",
    "!mv ZIP_CODE_040114.sbx $PUIDATA\n",
    "!mv ZIP_CODE_040114.shp $PUIDATA\n",
    "!mv ZIP_CODE_040114.shp.xml $PUIDATA"
   ]
  },
  {
   "cell_type": "code",
   "execution_count": 11,
   "metadata": {
    "scrolled": true
   },
   "outputs": [
    {
     "data": {
      "text/html": [
       "<div>\n",
       "<table border=\"1\" class=\"dataframe\">\n",
       "  <thead>\n",
       "    <tr style=\"text-align: right;\">\n",
       "      <th></th>\n",
       "      <th>ZIPCODE</th>\n",
       "      <th>BLDGZIP</th>\n",
       "      <th>PO_NAME</th>\n",
       "      <th>POPULATION</th>\n",
       "      <th>AREA</th>\n",
       "      <th>STATE</th>\n",
       "      <th>COUNTY</th>\n",
       "      <th>ST_FIPS</th>\n",
       "      <th>CTY_FIPS</th>\n",
       "      <th>URL</th>\n",
       "      <th>SHAPE_AREA</th>\n",
       "      <th>SHAPE_LEN</th>\n",
       "      <th>geometry</th>\n",
       "    </tr>\n",
       "  </thead>\n",
       "  <tbody>\n",
       "    <tr>\n",
       "      <th>0</th>\n",
       "      <td>11436</td>\n",
       "      <td>0</td>\n",
       "      <td>Jamaica</td>\n",
       "      <td>18681.0</td>\n",
       "      <td>2.269930e+07</td>\n",
       "      <td>NY</td>\n",
       "      <td>Queens</td>\n",
       "      <td>36</td>\n",
       "      <td>081</td>\n",
       "      <td>http://www.usps.com/</td>\n",
       "      <td>0.0</td>\n",
       "      <td>0.0</td>\n",
       "      <td>POLYGON ((1038098.251871482 188138.3800067157,...</td>\n",
       "    </tr>\n",
       "    <tr>\n",
       "      <th>1</th>\n",
       "      <td>11213</td>\n",
       "      <td>0</td>\n",
       "      <td>Brooklyn</td>\n",
       "      <td>62426.0</td>\n",
       "      <td>2.963100e+07</td>\n",
       "      <td>NY</td>\n",
       "      <td>Kings</td>\n",
       "      <td>36</td>\n",
       "      <td>047</td>\n",
       "      <td>http://www.usps.com/</td>\n",
       "      <td>0.0</td>\n",
       "      <td>0.0</td>\n",
       "      <td>POLYGON ((1001613.712964058 186926.4395172149,...</td>\n",
       "    </tr>\n",
       "    <tr>\n",
       "      <th>2</th>\n",
       "      <td>11212</td>\n",
       "      <td>0</td>\n",
       "      <td>Brooklyn</td>\n",
       "      <td>83866.0</td>\n",
       "      <td>4.197210e+07</td>\n",
       "      <td>NY</td>\n",
       "      <td>Kings</td>\n",
       "      <td>36</td>\n",
       "      <td>047</td>\n",
       "      <td>http://www.usps.com/</td>\n",
       "      <td>0.0</td>\n",
       "      <td>0.0</td>\n",
       "      <td>POLYGON ((1011174.275535807 183696.33770971, 1...</td>\n",
       "    </tr>\n",
       "    <tr>\n",
       "      <th>3</th>\n",
       "      <td>11225</td>\n",
       "      <td>0</td>\n",
       "      <td>Brooklyn</td>\n",
       "      <td>56527.0</td>\n",
       "      <td>2.369863e+07</td>\n",
       "      <td>NY</td>\n",
       "      <td>Kings</td>\n",
       "      <td>36</td>\n",
       "      <td>047</td>\n",
       "      <td>http://www.usps.com/</td>\n",
       "      <td>0.0</td>\n",
       "      <td>0.0</td>\n",
       "      <td>POLYGON ((995908.3654508889 183617.6128015518,...</td>\n",
       "    </tr>\n",
       "    <tr>\n",
       "      <th>4</th>\n",
       "      <td>11218</td>\n",
       "      <td>0</td>\n",
       "      <td>Brooklyn</td>\n",
       "      <td>72280.0</td>\n",
       "      <td>3.686880e+07</td>\n",
       "      <td>NY</td>\n",
       "      <td>Kings</td>\n",
       "      <td>36</td>\n",
       "      <td>047</td>\n",
       "      <td>http://www.usps.com/</td>\n",
       "      <td>0.0</td>\n",
       "      <td>0.0</td>\n",
       "      <td>POLYGON ((991997.1134308875 176307.4958601296,...</td>\n",
       "    </tr>\n",
       "  </tbody>\n",
       "</table>\n",
       "</div>"
      ],
      "text/plain": [
       "  ZIPCODE BLDGZIP   PO_NAME  POPULATION          AREA STATE  COUNTY ST_FIPS  \\\n",
       "0   11436       0   Jamaica     18681.0  2.269930e+07    NY  Queens      36   \n",
       "1   11213       0  Brooklyn     62426.0  2.963100e+07    NY   Kings      36   \n",
       "2   11212       0  Brooklyn     83866.0  4.197210e+07    NY   Kings      36   \n",
       "3   11225       0  Brooklyn     56527.0  2.369863e+07    NY   Kings      36   \n",
       "4   11218       0  Brooklyn     72280.0  3.686880e+07    NY   Kings      36   \n",
       "\n",
       "  CTY_FIPS                   URL  SHAPE_AREA  SHAPE_LEN  \\\n",
       "0      081  http://www.usps.com/         0.0        0.0   \n",
       "1      047  http://www.usps.com/         0.0        0.0   \n",
       "2      047  http://www.usps.com/         0.0        0.0   \n",
       "3      047  http://www.usps.com/         0.0        0.0   \n",
       "4      047  http://www.usps.com/         0.0        0.0   \n",
       "\n",
       "                                            geometry  \n",
       "0  POLYGON ((1038098.251871482 188138.3800067157,...  \n",
       "1  POLYGON ((1001613.712964058 186926.4395172149,...  \n",
       "2  POLYGON ((1011174.275535807 183696.33770971, 1...  \n",
       "3  POLYGON ((995908.3654508889 183617.6128015518,...  \n",
       "4  POLYGON ((991997.1134308875 176307.4958601296,...  "
      ]
     },
     "execution_count": 11,
     "metadata": {},
     "output_type": "execute_result"
    }
   ],
   "source": [
    "import geopandas\n",
    "zipcode=geopandas.GeoDataFrame.from_file(os.getenv(\"PUIDATA\") +\"/ZIP_CODE_040114.shp\")\n",
    "zipcode.head()"
   ]
  },
  {
   "cell_type": "code",
   "execution_count": 15,
   "metadata": {},
   "outputs": [],
   "source": []
  },
  {
   "cell_type": "code",
   "execution_count": 12,
   "metadata": {},
   "outputs": [],
   "source": [
    "zipcode=zipcode[['ZIPCODE','PO_NAME','geometry']]"
   ]
  },
  {
   "cell_type": "code",
   "execution_count": 13,
   "metadata": {},
   "outputs": [
    {
     "data": {
      "text/html": [
       "<div>\n",
       "<table border=\"1\" class=\"dataframe\">\n",
       "  <thead>\n",
       "    <tr style=\"text-align: right;\">\n",
       "      <th></th>\n",
       "      <th>ZIPCODE</th>\n",
       "      <th>PO_NAME</th>\n",
       "      <th>geometry</th>\n",
       "    </tr>\n",
       "  </thead>\n",
       "  <tbody>\n",
       "    <tr>\n",
       "      <th>0</th>\n",
       "      <td>11436</td>\n",
       "      <td>Jamaica</td>\n",
       "      <td>POLYGON ((1038098.251871482 188138.3800067157,...</td>\n",
       "    </tr>\n",
       "    <tr>\n",
       "      <th>1</th>\n",
       "      <td>11213</td>\n",
       "      <td>Brooklyn</td>\n",
       "      <td>POLYGON ((1001613.712964058 186926.4395172149,...</td>\n",
       "    </tr>\n",
       "    <tr>\n",
       "      <th>2</th>\n",
       "      <td>11212</td>\n",
       "      <td>Brooklyn</td>\n",
       "      <td>POLYGON ((1011174.275535807 183696.33770971, 1...</td>\n",
       "    </tr>\n",
       "    <tr>\n",
       "      <th>3</th>\n",
       "      <td>11225</td>\n",
       "      <td>Brooklyn</td>\n",
       "      <td>POLYGON ((995908.3654508889 183617.6128015518,...</td>\n",
       "    </tr>\n",
       "    <tr>\n",
       "      <th>4</th>\n",
       "      <td>11218</td>\n",
       "      <td>Brooklyn</td>\n",
       "      <td>POLYGON ((991997.1134308875 176307.4958601296,...</td>\n",
       "    </tr>\n",
       "  </tbody>\n",
       "</table>\n",
       "</div>"
      ],
      "text/plain": [
       "  ZIPCODE   PO_NAME                                           geometry\n",
       "0   11436   Jamaica  POLYGON ((1038098.251871482 188138.3800067157,...\n",
       "1   11213  Brooklyn  POLYGON ((1001613.712964058 186926.4395172149,...\n",
       "2   11212  Brooklyn  POLYGON ((1011174.275535807 183696.33770971, 1...\n",
       "3   11225  Brooklyn  POLYGON ((995908.3654508889 183617.6128015518,...\n",
       "4   11218  Brooklyn  POLYGON ((991997.1134308875 176307.4958601296,..."
      ]
     },
     "execution_count": 13,
     "metadata": {},
     "output_type": "execute_result"
    }
   ],
   "source": [
    "zipcode.head()"
   ]
  },
  {
   "cell_type": "code",
   "execution_count": 14,
   "metadata": {},
   "outputs": [],
   "source": [
    "zipcode['ZIPCODE']=zipcode['ZIPCODE'].astype(int)\n",
    "df2['ZIP CODE']=df2['ZIP CODE'].astype(int)"
   ]
  },
  {
   "cell_type": "code",
   "execution_count": 15,
   "metadata": {},
   "outputs": [
    {
     "data": {
      "text/html": [
       "<div>\n",
       "<table border=\"1\" class=\"dataframe\">\n",
       "  <thead>\n",
       "    <tr style=\"text-align: right;\">\n",
       "      <th></th>\n",
       "      <th>ZIPCODE</th>\n",
       "      <th>PO_NAME</th>\n",
       "      <th>geometry</th>\n",
       "      <th>ZIP CODE</th>\n",
       "      <th>SALE PRICE</th>\n",
       "    </tr>\n",
       "  </thead>\n",
       "  <tbody>\n",
       "    <tr>\n",
       "      <th>0</th>\n",
       "      <td>10301</td>\n",
       "      <td>Staten Island</td>\n",
       "      <td>POLYGON ((959467.6194348931 175129.5740033835,...</td>\n",
       "      <td>10301</td>\n",
       "      <td>434939</td>\n",
       "    </tr>\n",
       "    <tr>\n",
       "      <th>1</th>\n",
       "      <td>10303</td>\n",
       "      <td>Staten Island</td>\n",
       "      <td>POLYGON ((934731.324747473 173422.4451998025, ...</td>\n",
       "      <td>10303</td>\n",
       "      <td>393015</td>\n",
       "    </tr>\n",
       "    <tr>\n",
       "      <th>2</th>\n",
       "      <td>10302</td>\n",
       "      <td>Staten Island</td>\n",
       "      <td>POLYGON ((945602.2692129016 172744.2838264704,...</td>\n",
       "      <td>10302</td>\n",
       "      <td>385327</td>\n",
       "    </tr>\n",
       "    <tr>\n",
       "      <th>3</th>\n",
       "      <td>10304</td>\n",
       "      <td>Staten Island</td>\n",
       "      <td>POLYGON ((960903.1661044806 170553.3456230462,...</td>\n",
       "      <td>10304</td>\n",
       "      <td>608027</td>\n",
       "    </tr>\n",
       "    <tr>\n",
       "      <th>4</th>\n",
       "      <td>10314</td>\n",
       "      <td>Staten Island</td>\n",
       "      <td>POLYGON ((951029.2203012258 165817.4000424594,...</td>\n",
       "      <td>10314</td>\n",
       "      <td>523308</td>\n",
       "    </tr>\n",
       "  </tbody>\n",
       "</table>\n",
       "</div>"
      ],
      "text/plain": [
       "   ZIPCODE        PO_NAME                                           geometry  \\\n",
       "0    10301  Staten Island  POLYGON ((959467.6194348931 175129.5740033835,...   \n",
       "1    10303  Staten Island  POLYGON ((934731.324747473 173422.4451998025, ...   \n",
       "2    10302  Staten Island  POLYGON ((945602.2692129016 172744.2838264704,...   \n",
       "3    10304  Staten Island  POLYGON ((960903.1661044806 170553.3456230462,...   \n",
       "4    10314  Staten Island  POLYGON ((951029.2203012258 165817.4000424594,...   \n",
       "\n",
       "   ZIP CODE  SALE PRICE  \n",
       "0     10301      434939  \n",
       "1     10303      393015  \n",
       "2     10302      385327  \n",
       "3     10304      608027  \n",
       "4     10314      523308  "
      ]
     },
     "execution_count": 15,
     "metadata": {},
     "output_type": "execute_result"
    }
   ],
   "source": [
    "mer=zipcode.merge(df2,left_on=\"ZIPCODE\",right_on=\"ZIP CODE\")\n",
    "mer.head()"
   ]
  },
  {
   "cell_type": "code",
   "execution_count": 16,
   "metadata": {},
   "outputs": [
    {
     "data": {
      "text/html": [
       "<div>\n",
       "<table border=\"1\" class=\"dataframe\">\n",
       "  <thead>\n",
       "    <tr style=\"text-align: right;\">\n",
       "      <th></th>\n",
       "      <th>ZIPCODE</th>\n",
       "      <th>PO_NAME</th>\n",
       "      <th>geometry</th>\n",
       "      <th>ZIP CODE</th>\n",
       "      <th>SALE PRICE</th>\n",
       "    </tr>\n",
       "  </thead>\n",
       "  <tbody>\n",
       "    <tr>\n",
       "      <th>0</th>\n",
       "      <td>10301</td>\n",
       "      <td>Staten Island</td>\n",
       "      <td>POLYGON ((959467.6194348931 175129.5740033835,...</td>\n",
       "      <td>10301</td>\n",
       "      <td>434939</td>\n",
       "    </tr>\n",
       "    <tr>\n",
       "      <th>1</th>\n",
       "      <td>10303</td>\n",
       "      <td>Staten Island</td>\n",
       "      <td>POLYGON ((934731.324747473 173422.4451998025, ...</td>\n",
       "      <td>10303</td>\n",
       "      <td>393015</td>\n",
       "    </tr>\n",
       "    <tr>\n",
       "      <th>2</th>\n",
       "      <td>10302</td>\n",
       "      <td>Staten Island</td>\n",
       "      <td>POLYGON ((945602.2692129016 172744.2838264704,...</td>\n",
       "      <td>10302</td>\n",
       "      <td>385327</td>\n",
       "    </tr>\n",
       "    <tr>\n",
       "      <th>3</th>\n",
       "      <td>10304</td>\n",
       "      <td>Staten Island</td>\n",
       "      <td>POLYGON ((960903.1661044806 170553.3456230462,...</td>\n",
       "      <td>10304</td>\n",
       "      <td>608027</td>\n",
       "    </tr>\n",
       "    <tr>\n",
       "      <th>4</th>\n",
       "      <td>10314</td>\n",
       "      <td>Staten Island</td>\n",
       "      <td>POLYGON ((951029.2203012258 165817.4000424594,...</td>\n",
       "      <td>10314</td>\n",
       "      <td>523308</td>\n",
       "    </tr>\n",
       "    <tr>\n",
       "      <th>5</th>\n",
       "      <td>10305</td>\n",
       "      <td>Staten Island</td>\n",
       "      <td>POLYGON ((966589.4293382317 163908.5154087991,...</td>\n",
       "      <td>10305</td>\n",
       "      <td>449903</td>\n",
       "    </tr>\n",
       "    <tr>\n",
       "      <th>6</th>\n",
       "      <td>10306</td>\n",
       "      <td>Staten Island</td>\n",
       "      <td>POLYGON ((955977.1562714726 152284.8755983859,...</td>\n",
       "      <td>10306</td>\n",
       "      <td>425641</td>\n",
       "    </tr>\n",
       "    <tr>\n",
       "      <th>7</th>\n",
       "      <td>10308</td>\n",
       "      <td>Staten Island</td>\n",
       "      <td>POLYGON ((938154.3867989779 143446.3496402949,...</td>\n",
       "      <td>10308</td>\n",
       "      <td>452259</td>\n",
       "    </tr>\n",
       "    <tr>\n",
       "      <th>8</th>\n",
       "      <td>10312</td>\n",
       "      <td>Staten Island</td>\n",
       "      <td>POLYGON ((928850.4533071518 143511.4033159614,...</td>\n",
       "      <td>10312</td>\n",
       "      <td>499221</td>\n",
       "    </tr>\n",
       "    <tr>\n",
       "      <th>9</th>\n",
       "      <td>10309</td>\n",
       "      <td>Staten Island</td>\n",
       "      <td>POLYGON ((925030.2516299784 142864.4400429726,...</td>\n",
       "      <td>10309</td>\n",
       "      <td>669994</td>\n",
       "    </tr>\n",
       "    <tr>\n",
       "      <th>10</th>\n",
       "      <td>10307</td>\n",
       "      <td>Staten Island</td>\n",
       "      <td>POLYGON ((914830.9058869779 127205.9513468891,...</td>\n",
       "      <td>10307</td>\n",
       "      <td>588904</td>\n",
       "    </tr>\n",
       "    <tr>\n",
       "      <th>11</th>\n",
       "      <td>10310</td>\n",
       "      <td>Staten Island</td>\n",
       "      <td>POLYGON ((950767.5065858066 172848.9686564654,...</td>\n",
       "      <td>10310</td>\n",
       "      <td>454388</td>\n",
       "    </tr>\n",
       "  </tbody>\n",
       "</table>\n",
       "</div>"
      ],
      "text/plain": [
       "    ZIPCODE        PO_NAME                                           geometry  \\\n",
       "0     10301  Staten Island  POLYGON ((959467.6194348931 175129.5740033835,...   \n",
       "1     10303  Staten Island  POLYGON ((934731.324747473 173422.4451998025, ...   \n",
       "2     10302  Staten Island  POLYGON ((945602.2692129016 172744.2838264704,...   \n",
       "3     10304  Staten Island  POLYGON ((960903.1661044806 170553.3456230462,...   \n",
       "4     10314  Staten Island  POLYGON ((951029.2203012258 165817.4000424594,...   \n",
       "5     10305  Staten Island  POLYGON ((966589.4293382317 163908.5154087991,...   \n",
       "6     10306  Staten Island  POLYGON ((955977.1562714726 152284.8755983859,...   \n",
       "7     10308  Staten Island  POLYGON ((938154.3867989779 143446.3496402949,...   \n",
       "8     10312  Staten Island  POLYGON ((928850.4533071518 143511.4033159614,...   \n",
       "9     10309  Staten Island  POLYGON ((925030.2516299784 142864.4400429726,...   \n",
       "10    10307  Staten Island  POLYGON ((914830.9058869779 127205.9513468891,...   \n",
       "11    10310  Staten Island  POLYGON ((950767.5065858066 172848.9686564654,...   \n",
       "\n",
       "    ZIP CODE  SALE PRICE  \n",
       "0      10301      434939  \n",
       "1      10303      393015  \n",
       "2      10302      385327  \n",
       "3      10304      608027  \n",
       "4      10314      523308  \n",
       "5      10305      449903  \n",
       "6      10306      425641  \n",
       "7      10308      452259  \n",
       "8      10312      499221  \n",
       "9      10309      669994  \n",
       "10     10307      588904  \n",
       "11     10310      454388  "
      ]
     },
     "execution_count": 16,
     "metadata": {},
     "output_type": "execute_result"
    }
   ],
   "source": [
    "mer"
   ]
  },
  {
   "cell_type": "code",
   "execution_count": 21,
   "metadata": {},
   "outputs": [
    {
     "name": "stderr",
     "output_type": "stream",
     "text": [
      "/usr/local/Anaconda3-5.0.0-Linux-x86_64/envs/PUI2016_Python3/lib/python3.5/site-packages/matplotlib/font_manager.py:1316: UserWarning: findfont: Font family ['sans-serif'] not found. Falling back to DejaVu Sans\n",
      "  (prop.get_family(), self.defaultFamily[fontext]))\n"
     ]
    },
    {
     "data": {
      "image/png": "[encoded data removed]",
      "text/plain": [
       "<matplotlib.figure.Figure at 0x7f3cec19cb00>"
      ]
     },
     "metadata": {},
     "output_type": "display_data"
    }
   ],
   "source": [
    "f, ax = plt.subplots(figsize=(12,12))\n",
    "ax.get_xaxis().set_visible(False)\n",
    "ax.get_yaxis().set_visible(False)\n",
    "ax.set_title(\"Average Sale Price by Zipcode in Staten Island in 2016\", fontdict={'fontsize': 20}, loc='left')\n",
    "mer.plot(column='SALE PRICE',cmap='OrRd',alpha=1,linewidth=1,ax=ax, scheme=\"equal_interval\", legend=True, k=7,edgecolor=\"black\")\n",
    "for idx, row in mer.iterrows():\n",
    "        #####your code here##### # put neighborhood names on the plot in red font\n",
    "        plt.annotate(s=row['ZIPCODE'], xy=row.geometry.centroid.coords[0], horizontalalignment='center',color='Black', size=10)\n",
    "ax.get_legend().set_bbox_to_anchor((0,0.3,0.28,0.7))\n",
    "plt.savefig(\"Average-Sale-Price-Staten-Island.png\")"
   ]
  },
  {
   "cell_type": "code",
   "execution_count": null,
   "metadata": {},
   "outputs": [],
   "source": []
  }
 ],
 "metadata": {
  "kernelspec": {
   "display_name": "PUI2016_Python3",
   "language": "python",
   "name": "pui2016_python3"
  },
  "language_info": {
   "codemirror_mode": {
    "name": "ipython",
    "version": 3
   },
   "file_extension": ".py",
   "mimetype": "text/x-python",
   "name": "python",
   "nbconvert_exporter": "python",
   "pygments_lexer": "ipython3",
   "version": "3.5.4"
  }
 },
 "nbformat": 4,
 "nbformat_minor": 2
}
